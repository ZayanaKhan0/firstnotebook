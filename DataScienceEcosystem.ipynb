{
 "cells": [
  {
   "cell_type": "markdown",
   "id": "128a87a5-a002-494f-abf8-03195b0a7555",
   "metadata": {},
   "source": [
    "# Data Science Tools And Ecosystem"
   ]
  },
  {
   "cell_type": "markdown",
   "id": "2c9abb2c-651b-47ad-8a41-22238a573bf3",
   "metadata": {},
   "source": [
    "In this notebook, Data Science Tools and Ecosystem are summarized."
   ]
  },
  {
   "cell_type": "markdown",
   "id": "aa5b3ab0-96df-4dff-b29c-ff100f831652",
   "metadata": {},
   "source": [
    "**Objectives:**"
   ]
  },
  {
   "cell_type": "markdown",
   "id": "75e4e75a-5b4a-418d-906d-57ba55647b6b",
   "metadata": {},
   "source": [
    "* Learn some data science languages\n",
    "* Learn some libraries in data science\n",
    "* Learn some tools of data science"
   ]
  },
  {
   "cell_type": "markdown",
   "id": "e7b8e946-6d12-413b-8169-a68f6cfe8be6",
   "metadata": {},
   "source": [
    "Some of the popular languages that Data Scientists use are:"
   ]
  },
  {
   "cell_type": "markdown",
   "id": "e65aae12-67ca-47f7-a909-f3a0060aef68",
   "metadata": {},
   "source": [
    "1. Python\n",
    "2. SQL\n",
    "3. Scala"
   ]
  },
  {
   "cell_type": "markdown",
   "id": "44546edf-ade7-4eef-af3e-2ed704968805",
   "metadata": {},
   "source": [
    "Some of the commonly used libraries used by Data Scientists include:"
   ]
  },
  {
   "cell_type": "markdown",
   "id": "9a26de64-53e8-4cd7-9a03-f9e7e0e11c64",
   "metadata": {},
   "source": [
    "1. NumPy\n",
    "2. Matplotlib\n",
    "3. SciPy"
   ]
  },
  {
   "cell_type": "markdown",
   "id": "9d6e544c-1339-4175-9ccf-1fbeea1a6ccb",
   "metadata": {},
   "source": [
    "Data Sciece Tools | Names\n",
    "------------------|------\n",
    "Integrated Development Environments | Jupyter Notebook\n",
    "Data Visualization Tools | Matplotlib \n",
    "Big Data Platforms | Hadoop "
   ]
  },
  {
   "cell_type": "markdown",
   "id": "8eb4b688-a547-4f50-a96a-9709d7fccb2e",
   "metadata": {},
   "source": [
    "### Below are a few examples of evaluating arithmetic expressions in Python"
   ]
  },
  {
   "cell_type": "code",
   "execution_count": 19,
   "id": "467affa0-d4ac-4bc2-afd5-aeffad42b78d",
   "metadata": {},
   "outputs": [
    {
     "data": {
      "text/plain": [
       "17"
      ]
     },
     "execution_count": 19,
     "metadata": {},
     "output_type": "execute_result"
    }
   ],
   "source": [
    "(3*4)+5\n",
    "#This a simple arithmetic expression to mutiply then add integers"
   ]
  },
  {
   "cell_type": "code",
   "execution_count": 25,
   "id": "a9f93cdc-e9f2-432a-b727-e213c455229b",
   "metadata": {},
   "outputs": [
    {
     "data": {
      "text/plain": [
       "3.3333333333333335"
      ]
     },
     "execution_count": 25,
     "metadata": {},
     "output_type": "execute_result"
    }
   ],
   "source": [
    "200/60\n",
    "#This will convert 200 minutes to hours by diving by 60"
   ]
  },
  {
   "cell_type": "markdown",
   "id": "c73fc9c0-26f0-4f3d-9bb5-6744a634f88d",
   "metadata": {},
   "source": [
    "## Author"
   ]
  },
  {
   "cell_type": "code",
   "execution_count": null,
   "id": "dd2aa646-3318-412e-9493-61b6af3c97d0",
   "metadata": {},
   "outputs": [],
   "source": [
    "Zayana Khan"
   ]
  }
 ],
 "metadata": {
  "kernelspec": {
   "display_name": "Python 3 (ipykernel)",
   "language": "python",
   "name": "python3"
  },
  "language_info": {
   "codemirror_mode": {
    "name": "ipython",
    "version": 3
   },
   "file_extension": ".py",
   "mimetype": "text/x-python",
   "name": "python",
   "nbconvert_exporter": "python",
   "pygments_lexer": "ipython3",
   "version": "3.12.4"
  }
 },
 "nbformat": 4,
 "nbformat_minor": 5
}
